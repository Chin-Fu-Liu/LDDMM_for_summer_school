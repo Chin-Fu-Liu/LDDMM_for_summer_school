{
 "cells": [
  {
   "cell_type": "markdown",
   "metadata": {},
   "source": [
    "# Spline transformations for images"
   ]
  },
  {
   "cell_type": "markdown",
   "metadata": {},
   "source": [
    "## Minimization problem\n",
    "\n",
    "We write $\\varphi^{-1} = x - v(x)$ and minimize the cost function\n",
    "\n",
    "\\begin{align*}\n",
    "E = \\int \\frac{1}{2}v^T(x) A v(x)dx + \\int \\frac{1}{2\\sigma^2} (I(x-v(x)) - J(x))^2dx\n",
    "\\end{align*}\n",
    "\n",
    "We'll take a perturbation $v \\mapsto v + \\epsilon \\delta v$.\n",
    "\\begin{align*}\n",
    "&\\frac{d}{d\\epsilon}\\int \\frac{1}{2}(v + \\epsilon \\delta v)^T(x) A (v + \\epsilon \\delta v)(x)dx + \\int \\frac{1}{2\\sigma^2} (I(x-v(x) - \\epsilon \\delta v) - J)^2dx \\bigg|_{\\epsilon = 0}\\\\\n",
    "&= \\int Av^T(x) \\delta v(x)dx + \\frac{1}{\\sigma^2}\\int (I(x - v(x)) - J(x))\\frac{d}{d\\epsilon} I(x - v(x) - \\epsilon \\delta v(x))\\bigg|_{\\epsilon = 0}dx\\\\\n",
    "&= \\int Av^T(x) \\delta v(x)dx + -\\frac{1}{\\sigma^2}\\int (I(x - v(x)) - J(x)) DI(x - v(x))\\delta v(x)dx\\\\\n",
    "\\end{align*}\n",
    "If this is stationary for all perturbations, we require \n",
    "\\begin{align*}\n",
    "DE &= Av(x) - \\frac{1}{\\sigma^2}(I(x - v(x)) - J(x))\\nabla I(x - v(x)) = 0\n",
    "\\end{align*}\n",
    "We will use this gradient to form a gradient descent algorithm.  Typically acting on this gradient with the inverse of $A$, which is convolution with it's Green's kernel $K$, gives better numerical performance.  We use the gradient vector\n",
    "\\begin{align*}\n",
    "\\nabla E &= v(x) - \\frac{1}{\\sigma^2}K * (I(x - v(x)) - J(x))\\nabla I(x - v(x))\n",
    "\\end{align*}"
   ]
  }
 ],
 "metadata": {
  "kernelspec": {
   "display_name": "Python 3",
   "language": "python",
   "name": "python3"
  },
  "language_info": {
   "codemirror_mode": {
    "name": "ipython",
    "version": 3
   },
   "file_extension": ".py",
   "mimetype": "text/x-python",
   "name": "python",
   "nbconvert_exporter": "python",
   "pygments_lexer": "ipython3",
   "version": "3.5.2"
  }
 },
 "nbformat": 4,
 "nbformat_minor": 2
}
